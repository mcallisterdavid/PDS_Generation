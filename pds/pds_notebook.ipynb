{
 "cells": [
  {
   "cell_type": "code",
   "execution_count": 1,
   "metadata": {},
   "outputs": [
    {
     "name": "stderr",
     "output_type": "stream",
     "text": [
      "A matching Triton is not available, some optimizations will not be enabled.\n",
      "Error caught was: No module named 'triton'\n"
     ]
    }
   ],
   "source": [
    "%load_ext autoreload\n",
    "%autoreload 2\n",
    "\n",
    "import os\n",
    "os.environ[\"CUDA_VISIBLE_DEVICES\"]=\"3\"\n",
    "\n",
    "import torch\n",
    "from torch import Tensor\n",
    "import torch.nn.functional as F\n",
    "device = torch.device('cuda')\n",
    "import matplotlib.pyplot as plt\n",
    "import math\n",
    "from tqdm import tqdm\n",
    "\n",
    "from diffusers import DDIMPipeline, DDIMScheduler, DDPMPipeline, DDPMScheduler, StableDiffusionPipeline\n",
    "from typing import *\n",
    "from jaxtyping import *"
   ]
  },
  {
   "cell_type": "code",
   "execution_count": 2,
   "metadata": {},
   "outputs": [
    {
     "data": {
      "application/vnd.jupyter.widget-view+json": {
       "model_id": "abdceb0c943041a48eaaa1dd90604482",
       "version_major": 2,
       "version_minor": 0
      },
      "text/plain": [
       "Loading pipeline components...:   0%|          | 0/6 [00:00<?, ?it/s]"
      ]
     },
     "metadata": {},
     "output_type": "display_data"
    }
   ],
   "source": [
    "from pds import PDS, PDSConfig\n",
    "\n",
    "pds = PDS(PDSConfig(\n",
    "    sd_pretrained_model_or_path='stabilityai/stable-diffusion-2-1-base'\n",
    "))"
   ]
  },
  {
   "cell_type": "code",
   "execution_count": 5,
   "metadata": {},
   "outputs": [],
   "source": [
    "reference = torch.tensor(plt.imread('./base.png'))\n",
    "reference = reference[..., :3].permute(2, 0, 1)[None, ...]\n",
    "reference = reference.to(pds.unet.device)"
   ]
  },
  {
   "cell_type": "code",
   "execution_count": 6,
   "metadata": {},
   "outputs": [],
   "source": [
    "def decode_latent(latent):\n",
    "    latent = latent.detach().to(device)\n",
    "    with torch.no_grad():\n",
    "        rgb = pds.decode_latent(latent)\n",
    "    rgb = rgb.float().cpu().permute(0, 2, 3, 1)\n",
    "    rgb = rgb.permute(1, 0, 2, 3)\n",
    "    rgb = rgb.flatten(start_dim=1, end_dim=2)\n",
    "    return rgb"
   ]
  },
  {
   "cell_type": "code",
   "execution_count": 7,
   "metadata": {},
   "outputs": [],
   "source": [
    "reference_latent = pds.encode_image(reference)\n",
    "decoded = decode_latent(reference_latent)"
   ]
  },
  {
   "cell_type": "code",
   "execution_count": null,
   "metadata": {},
   "outputs": [],
   "source": [
    "im = reference_latent.clone().to(device)\n",
    "im.requires_grad_(True)\n",
    "im.retain_grad()\n",
    "\n",
    "im_optimizer = torch.optim.AdamW([im], lr=0.01, betas=(0.9, 0.99), eps=1e-15)\n",
    "\n",
    "for step in tqdm(range(2000)):\n",
    "    im_optimizer.zero_grad()\n",
    "\n",
    "    with torch.no_grad():\n",
    "        pds_dict = pds(\n",
    "            tgt_x0=im,\n",
    "            src_x0=reference_latent.clone(),\n",
    "            tgt_prompt=\"a DSLR photo of a dog in a winter wonderland\",\n",
    "            src_prompt=\"a DSLR photo of a dog\",\n",
    "            return_dict=True\n",
    "        )\n",
    "    grad = pds_dict['grad']\n",
    "\n",
    "    # loss.backward()\n",
    "    im.backward(gradient=grad)\n",
    "    im_optimizer.step()\n",
    "\n",
    "    if step % 20 == 0:\n",
    "        decoded = decode_latent(im.detach()).cpu().numpy()\n",
    "        plt.imsave('./pds_debug.png', decoded)"
   ]
  },
  {
   "cell_type": "code",
   "execution_count": null,
   "metadata": {},
   "outputs": [],
   "source": [
    "# SDS Generation\n",
    "\n",
    "im = 0.8 * torch.randn_like(reference_latent)\n",
    "im.requires_grad_(True)\n",
    "im.retain_grad()\n",
    "\n",
    "im_optimizer = torch.optim.AdamW([im], lr=0.003, betas=(0.9, 0.99), eps=1e-15)\n",
    "\n",
    "for step in tqdm(range(4000)):\n",
    "    im_optimizer.zero_grad()\n",
    "\n",
    "    with torch.no_grad():\n",
    "        pds.config.guidance_scale = 7.5\n",
    "        pds_dict = pds.sds_loss(\n",
    "            im=im,\n",
    "            prompt=\"a DSLR photo of a dog in a winter wonderland\",\n",
    "            return_dict=True\n",
    "        )\n",
    "    grad = pds_dict['grad']\n",
    "\n",
    "    # loss.backward()\n",
    "    im.backward(gradient=grad)\n",
    "    im_optimizer.step()\n",
    "\n",
    "    if step % 20 == 0:\n",
    "        decoded = decode_latent(im.detach()).cpu().numpy()\n",
    "        plt.imsave('./sds_gen_debug.png', decoded)"
   ]
  },
  {
   "cell_type": "code",
   "execution_count": 55,
   "metadata": {},
   "outputs": [
    {
     "name": "stderr",
     "output_type": "stream",
     "text": [
      " 42%|████▏     | 1670/4000 [05:26<07:15,  5.35it/s]"
     ]
    }
   ],
   "source": [
    "# PDS Generation\n",
    "\n",
    "batch_size = 1\n",
    "\n",
    "im = 0.8 * torch.randn_like(reference_latent.repeat(batch_size, 1, 1, 1))\n",
    "im.requires_grad_(True)\n",
    "im.retain_grad()\n",
    "\n",
    "im_optimizer = torch.optim.AdamW([im], lr=0.003, betas=(0.9, 0.99), eps=1e-15)\n",
    "\n",
    "for step in tqdm(range(4000)):\n",
    "    im_optimizer.zero_grad()\n",
    "\n",
    "    with torch.no_grad():\n",
    "        pds.config.guidance_scale = 7.5\n",
    "        pds_dict = pds.pds_gen(\n",
    "            im=im,\n",
    "            prompt=\"a DSLR photo of a dog in a winter wonderland\",\n",
    "            return_dict=True\n",
    "        )\n",
    "    grad = pds_dict['grad']\n",
    "\n",
    "    # loss.backward()\n",
    "    im.backward(gradient=grad)\n",
    "    im_optimizer.step()\n",
    "\n",
    "    if step % 20 == 0:\n",
    "        decoded = decode_latent(im.detach()).cpu().numpy()\n",
    "        plt.imsave('./pds_gen_debug.png', decoded)"
   ]
  },
  {
   "cell_type": "code",
   "execution_count": 20,
   "metadata": {},
   "outputs": [
    {
     "name": "stderr",
     "output_type": "stream",
     "text": [
      "  0%|          | 0/4000 [00:00<?, ?it/s]"
     ]
    },
    {
     "name": "stderr",
     "output_type": "stream",
     "text": [
      " 32%|███▏      | 1267/4000 [42:31<1:31:43,  2.01s/it]\n"
     ]
    },
    {
     "data": {
      "text/html": [
       "<pre style=\"white-space:pre;overflow-x:auto;line-height:normal;font-family:Menlo,'DejaVu Sans Mono',consolas,'Courier New',monospace\"><span style=\"color: #800000; text-decoration-color: #800000\">╭─────────────────────────────── </span><span style=\"color: #800000; text-decoration-color: #800000; font-weight: bold\">Traceback </span><span style=\"color: #bf7f7f; text-decoration-color: #bf7f7f; font-weight: bold\">(most recent call last)</span><span style=\"color: #800000; text-decoration-color: #800000\"> ────────────────────────────────╮</span>\n",
       "<span style=\"color: #800000; text-decoration-color: #800000\">│</span> in <span style=\"color: #00ff00; text-decoration-color: #00ff00\">&lt;module&gt;</span>:<span style=\"color: #0000ff; text-decoration-color: #0000ff\">16</span>                                                                                   <span style=\"color: #800000; text-decoration-color: #800000\">│</span>\n",
       "<span style=\"color: #800000; text-decoration-color: #800000\">│</span>                                                                                                  <span style=\"color: #800000; text-decoration-color: #800000\">│</span>\n",
       "<span style=\"color: #800000; text-decoration-color: #800000\">│</span>   <span style=\"color: #7f7f7f; text-decoration-color: #7f7f7f\">13 </span><span style=\"color: #7f7f7f; text-decoration-color: #7f7f7f\">│   </span>                                                                                        <span style=\"color: #800000; text-decoration-color: #800000\">│</span>\n",
       "<span style=\"color: #800000; text-decoration-color: #800000\">│</span>   <span style=\"color: #7f7f7f; text-decoration-color: #7f7f7f\">14 </span><span style=\"color: #7f7f7f; text-decoration-color: #7f7f7f\">│   </span><span style=\"color: #0000ff; text-decoration-color: #0000ff\">with</span> torch.no_grad():                                                                   <span style=\"color: #800000; text-decoration-color: #800000\">│</span>\n",
       "<span style=\"color: #800000; text-decoration-color: #800000\">│</span>   <span style=\"color: #7f7f7f; text-decoration-color: #7f7f7f\">15 </span><span style=\"color: #7f7f7f; text-decoration-color: #7f7f7f\">│   │   </span>pds.config.guidance_scale = <span style=\"color: #0000ff; text-decoration-color: #0000ff\">100</span>                                                     <span style=\"color: #800000; text-decoration-color: #800000\">│</span>\n",
       "<span style=\"color: #800000; text-decoration-color: #800000\">│</span> <span style=\"color: #800000; text-decoration-color: #800000\">❱ </span>16 <span style=\"color: #7f7f7f; text-decoration-color: #7f7f7f\">│   │   </span>pds_dict = pds.pds_gen_sdedit_src(                                                  <span style=\"color: #800000; text-decoration-color: #800000\">│</span>\n",
       "<span style=\"color: #800000; text-decoration-color: #800000\">│</span>   <span style=\"color: #7f7f7f; text-decoration-color: #7f7f7f\">17 </span><span style=\"color: #7f7f7f; text-decoration-color: #7f7f7f\">│   │   │   </span>im=im,                                                                          <span style=\"color: #800000; text-decoration-color: #800000\">│</span>\n",
       "<span style=\"color: #800000; text-decoration-color: #800000\">│</span>   <span style=\"color: #7f7f7f; text-decoration-color: #7f7f7f\">18 </span><span style=\"color: #7f7f7f; text-decoration-color: #7f7f7f\">│   │   │   </span>prompt=<span style=\"color: #808000; text-decoration-color: #808000\">\"a DSLR photo of a dog in a winter wonderland\"</span>,                          <span style=\"color: #800000; text-decoration-color: #800000\">│</span>\n",
       "<span style=\"color: #800000; text-decoration-color: #800000\">│</span>   <span style=\"color: #7f7f7f; text-decoration-color: #7f7f7f\">19 </span><span style=\"color: #7f7f7f; text-decoration-color: #7f7f7f\">│   │   │   </span>skip_percentage = <span style=\"color: #00ffff; text-decoration-color: #00ffff\">min</span>(step / <span style=\"color: #0000ff; text-decoration-color: #0000ff\">1500</span>, <span style=\"color: #0000ff; text-decoration-color: #0000ff\">0.8</span>),                                        <span style=\"color: #800000; text-decoration-color: #800000\">│</span>\n",
       "<span style=\"color: #800000; text-decoration-color: #800000\">│</span>                                                                                                  <span style=\"color: #800000; text-decoration-color: #800000\">│</span>\n",
       "<span style=\"color: #800000; text-decoration-color: #800000\">│</span> <span style=\"color: #bfbf7f; text-decoration-color: #bfbf7f\">/home/mcallisterdavid/PDS_Generation/pds/</span><span style=\"color: #808000; text-decoration-color: #808000; font-weight: bold\">pds.py</span>:<span style=\"color: #0000ff; text-decoration-color: #0000ff\">296</span> in <span style=\"color: #00ff00; text-decoration-color: #00ff00\">pds_gen_sdedit_src</span>                        <span style=\"color: #800000; text-decoration-color: #800000\">│</span>\n",
       "<span style=\"color: #800000; text-decoration-color: #800000\">│</span>                                                                                                  <span style=\"color: #800000; text-decoration-color: #800000\">│</span>\n",
       "<span style=\"color: #800000; text-decoration-color: #800000\">│</span>   <span style=\"color: #7f7f7f; text-decoration-color: #7f7f7f\">293 </span><span style=\"color: #7f7f7f; text-decoration-color: #7f7f7f\">│   │   </span>uncond_embedding = <span style=\"color: #00ffff; text-decoration-color: #00ffff\">self</span>.null_text_feature                                          <span style=\"color: #800000; text-decoration-color: #800000\">│</span>\n",
       "<span style=\"color: #800000; text-decoration-color: #800000\">│</span>   <span style=\"color: #7f7f7f; text-decoration-color: #7f7f7f\">294 </span><span style=\"color: #7f7f7f; text-decoration-color: #7f7f7f\">│   │   </span>                                                                                   <span style=\"color: #800000; text-decoration-color: #800000\">│</span>\n",
       "<span style=\"color: #800000; text-decoration-color: #800000\">│</span>   <span style=\"color: #7f7f7f; text-decoration-color: #7f7f7f\">295 </span><span style=\"color: #7f7f7f; text-decoration-color: #7f7f7f\">│   │   </span>tgt_x0 = im                                                                        <span style=\"color: #800000; text-decoration-color: #800000\">│</span>\n",
       "<span style=\"color: #800000; text-decoration-color: #800000\">│</span> <span style=\"color: #800000; text-decoration-color: #800000\">❱ </span>296 <span style=\"color: #7f7f7f; text-decoration-color: #7f7f7f\">│   │   </span>src_x0 = <span style=\"color: #00ffff; text-decoration-color: #00ffff\">self</span>.run_sdedit(                                                          <span style=\"color: #800000; text-decoration-color: #800000\">│</span>\n",
       "<span style=\"color: #800000; text-decoration-color: #800000\">│</span>   <span style=\"color: #7f7f7f; text-decoration-color: #7f7f7f\">297 </span><span style=\"color: #7f7f7f; text-decoration-color: #7f7f7f\">│   │   │   </span>x0=im,                                                                         <span style=\"color: #800000; text-decoration-color: #800000\">│</span>\n",
       "<span style=\"color: #800000; text-decoration-color: #800000\">│</span>   <span style=\"color: #7f7f7f; text-decoration-color: #7f7f7f\">298 </span><span style=\"color: #7f7f7f; text-decoration-color: #7f7f7f\">│   │   │   </span>tgt_prompt=prompt,                                                             <span style=\"color: #800000; text-decoration-color: #800000\">│</span>\n",
       "<span style=\"color: #800000; text-decoration-color: #800000\">│</span>   <span style=\"color: #7f7f7f; text-decoration-color: #7f7f7f\">299 </span><span style=\"color: #7f7f7f; text-decoration-color: #7f7f7f\">│   │   │   </span>num_inference_steps=num_solve_steps,                                           <span style=\"color: #800000; text-decoration-color: #800000\">│</span>\n",
       "<span style=\"color: #800000; text-decoration-color: #800000\">│</span>                                                                                                  <span style=\"color: #800000; text-decoration-color: #800000\">│</span>\n",
       "<span style=\"color: #800000; text-decoration-color: #800000\">│</span> <span style=\"color: #bfbf7f; text-decoration-color: #bfbf7f\">/home/mcallisterdavid/PDS_Generation/pds/</span><span style=\"color: #808000; text-decoration-color: #808000; font-weight: bold\">pds.py</span>:<span style=\"color: #0000ff; text-decoration-color: #0000ff\">414</span> in <span style=\"color: #00ff00; text-decoration-color: #00ff00\">run_sdedit</span>                                <span style=\"color: #800000; text-decoration-color: #800000\">│</span>\n",
       "<span style=\"color: #800000; text-decoration-color: #800000\">│</span>                                                                                                  <span style=\"color: #800000; text-decoration-color: #800000\">│</span>\n",
       "<span style=\"color: #800000; text-decoration-color: #800000\">│</span>   <span style=\"color: #7f7f7f; text-decoration-color: #7f7f7f\">411 </span><span style=\"color: #7f7f7f; text-decoration-color: #7f7f7f\">│   │   │   </span>xt_input = torch.cat([xt] * <span style=\"color: #0000ff; text-decoration-color: #0000ff\">2</span>)                                                 <span style=\"color: #800000; text-decoration-color: #800000\">│</span>\n",
       "<span style=\"color: #800000; text-decoration-color: #800000\">│</span>   <span style=\"color: #7f7f7f; text-decoration-color: #7f7f7f\">412 </span><span style=\"color: #7f7f7f; text-decoration-color: #7f7f7f\">│   │   │   </span>noise_pred = <span style=\"color: #00ffff; text-decoration-color: #00ffff\">self</span>.unet.forward(                                                <span style=\"color: #800000; text-decoration-color: #800000\">│</span>\n",
       "<span style=\"color: #800000; text-decoration-color: #800000\">│</span>   <span style=\"color: #7f7f7f; text-decoration-color: #7f7f7f\">413 </span><span style=\"color: #7f7f7f; text-decoration-color: #7f7f7f\">│   │   │   │   </span>xt_input,                                                                  <span style=\"color: #800000; text-decoration-color: #800000\">│</span>\n",
       "<span style=\"color: #800000; text-decoration-color: #800000\">│</span> <span style=\"color: #800000; text-decoration-color: #800000\">❱ </span>414 <span style=\"color: #7f7f7f; text-decoration-color: #7f7f7f\">│   │   │   │   </span>torch.cat([t[<span style=\"color: #0000ff; text-decoration-color: #0000ff\">None</span>]] * <span style=\"color: #0000ff; text-decoration-color: #0000ff\">2</span>).to(<span style=\"color: #00ffff; text-decoration-color: #00ffff\">self</span>.device),                                  <span style=\"color: #800000; text-decoration-color: #800000\">│</span>\n",
       "<span style=\"color: #800000; text-decoration-color: #800000\">│</span>   <span style=\"color: #7f7f7f; text-decoration-color: #7f7f7f\">415 </span><span style=\"color: #7f7f7f; text-decoration-color: #7f7f7f\">│   │   │   │   </span>encoder_hidden_states=text_embeddings,                                     <span style=\"color: #800000; text-decoration-color: #800000\">│</span>\n",
       "<span style=\"color: #800000; text-decoration-color: #800000\">│</span>   <span style=\"color: #7f7f7f; text-decoration-color: #7f7f7f\">416 </span><span style=\"color: #7f7f7f; text-decoration-color: #7f7f7f\">│   │   │   </span>).sample                                                                       <span style=\"color: #800000; text-decoration-color: #800000\">│</span>\n",
       "<span style=\"color: #800000; text-decoration-color: #800000\">│</span>   <span style=\"color: #7f7f7f; text-decoration-color: #7f7f7f\">417 </span><span style=\"color: #7f7f7f; text-decoration-color: #7f7f7f\">│   │   │   </span>noise_pred_text, noise_pred_uncond = noise_pred.chunk(<span style=\"color: #0000ff; text-decoration-color: #0000ff\">2</span>)                       <span style=\"color: #800000; text-decoration-color: #800000\">│</span>\n",
       "<span style=\"color: #800000; text-decoration-color: #800000\">╰──────────────────────────────────────────────────────────────────────────────────────────────────╯</span>\n",
       "<span style=\"color: #ff0000; text-decoration-color: #ff0000; font-weight: bold\">KeyboardInterrupt</span>\n",
       "</pre>\n"
      ],
      "text/plain": [
       "\u001b[31m╭─\u001b[0m\u001b[31m──────────────────────────────\u001b[0m\u001b[31m \u001b[0m\u001b[1;31mTraceback \u001b[0m\u001b[1;2;31m(most recent call last)\u001b[0m\u001b[31m \u001b[0m\u001b[31m───────────────────────────────\u001b[0m\u001b[31m─╮\u001b[0m\n",
       "\u001b[31m│\u001b[0m in \u001b[92m<module>\u001b[0m:\u001b[94m16\u001b[0m                                                                                   \u001b[31m│\u001b[0m\n",
       "\u001b[31m│\u001b[0m                                                                                                  \u001b[31m│\u001b[0m\n",
       "\u001b[31m│\u001b[0m   \u001b[2m13 \u001b[0m\u001b[2m│   \u001b[0m                                                                                        \u001b[31m│\u001b[0m\n",
       "\u001b[31m│\u001b[0m   \u001b[2m14 \u001b[0m\u001b[2m│   \u001b[0m\u001b[94mwith\u001b[0m torch.no_grad():                                                                   \u001b[31m│\u001b[0m\n",
       "\u001b[31m│\u001b[0m   \u001b[2m15 \u001b[0m\u001b[2m│   │   \u001b[0mpds.config.guidance_scale = \u001b[94m100\u001b[0m                                                     \u001b[31m│\u001b[0m\n",
       "\u001b[31m│\u001b[0m \u001b[31m❱ \u001b[0m16 \u001b[2m│   │   \u001b[0mpds_dict = pds.pds_gen_sdedit_src(                                                  \u001b[31m│\u001b[0m\n",
       "\u001b[31m│\u001b[0m   \u001b[2m17 \u001b[0m\u001b[2m│   │   │   \u001b[0mim=im,                                                                          \u001b[31m│\u001b[0m\n",
       "\u001b[31m│\u001b[0m   \u001b[2m18 \u001b[0m\u001b[2m│   │   │   \u001b[0mprompt=\u001b[33m\"\u001b[0m\u001b[33ma DSLR photo of a dog in a winter wonderland\u001b[0m\u001b[33m\"\u001b[0m,                          \u001b[31m│\u001b[0m\n",
       "\u001b[31m│\u001b[0m   \u001b[2m19 \u001b[0m\u001b[2m│   │   │   \u001b[0mskip_percentage = \u001b[96mmin\u001b[0m(step / \u001b[94m1500\u001b[0m, \u001b[94m0.8\u001b[0m),                                        \u001b[31m│\u001b[0m\n",
       "\u001b[31m│\u001b[0m                                                                                                  \u001b[31m│\u001b[0m\n",
       "\u001b[31m│\u001b[0m \u001b[2;33m/home/mcallisterdavid/PDS_Generation/pds/\u001b[0m\u001b[1;33mpds.py\u001b[0m:\u001b[94m296\u001b[0m in \u001b[92mpds_gen_sdedit_src\u001b[0m                        \u001b[31m│\u001b[0m\n",
       "\u001b[31m│\u001b[0m                                                                                                  \u001b[31m│\u001b[0m\n",
       "\u001b[31m│\u001b[0m   \u001b[2m293 \u001b[0m\u001b[2m│   │   \u001b[0muncond_embedding = \u001b[96mself\u001b[0m.null_text_feature                                          \u001b[31m│\u001b[0m\n",
       "\u001b[31m│\u001b[0m   \u001b[2m294 \u001b[0m\u001b[2m│   │   \u001b[0m                                                                                   \u001b[31m│\u001b[0m\n",
       "\u001b[31m│\u001b[0m   \u001b[2m295 \u001b[0m\u001b[2m│   │   \u001b[0mtgt_x0 = im                                                                        \u001b[31m│\u001b[0m\n",
       "\u001b[31m│\u001b[0m \u001b[31m❱ \u001b[0m296 \u001b[2m│   │   \u001b[0msrc_x0 = \u001b[96mself\u001b[0m.run_sdedit(                                                          \u001b[31m│\u001b[0m\n",
       "\u001b[31m│\u001b[0m   \u001b[2m297 \u001b[0m\u001b[2m│   │   │   \u001b[0mx0=im,                                                                         \u001b[31m│\u001b[0m\n",
       "\u001b[31m│\u001b[0m   \u001b[2m298 \u001b[0m\u001b[2m│   │   │   \u001b[0mtgt_prompt=prompt,                                                             \u001b[31m│\u001b[0m\n",
       "\u001b[31m│\u001b[0m   \u001b[2m299 \u001b[0m\u001b[2m│   │   │   \u001b[0mnum_inference_steps=num_solve_steps,                                           \u001b[31m│\u001b[0m\n",
       "\u001b[31m│\u001b[0m                                                                                                  \u001b[31m│\u001b[0m\n",
       "\u001b[31m│\u001b[0m \u001b[2;33m/home/mcallisterdavid/PDS_Generation/pds/\u001b[0m\u001b[1;33mpds.py\u001b[0m:\u001b[94m414\u001b[0m in \u001b[92mrun_sdedit\u001b[0m                                \u001b[31m│\u001b[0m\n",
       "\u001b[31m│\u001b[0m                                                                                                  \u001b[31m│\u001b[0m\n",
       "\u001b[31m│\u001b[0m   \u001b[2m411 \u001b[0m\u001b[2m│   │   │   \u001b[0mxt_input = torch.cat([xt] * \u001b[94m2\u001b[0m)                                                 \u001b[31m│\u001b[0m\n",
       "\u001b[31m│\u001b[0m   \u001b[2m412 \u001b[0m\u001b[2m│   │   │   \u001b[0mnoise_pred = \u001b[96mself\u001b[0m.unet.forward(                                                \u001b[31m│\u001b[0m\n",
       "\u001b[31m│\u001b[0m   \u001b[2m413 \u001b[0m\u001b[2m│   │   │   │   \u001b[0mxt_input,                                                                  \u001b[31m│\u001b[0m\n",
       "\u001b[31m│\u001b[0m \u001b[31m❱ \u001b[0m414 \u001b[2m│   │   │   │   \u001b[0mtorch.cat([t[\u001b[94mNone\u001b[0m]] * \u001b[94m2\u001b[0m).to(\u001b[96mself\u001b[0m.device),                                  \u001b[31m│\u001b[0m\n",
       "\u001b[31m│\u001b[0m   \u001b[2m415 \u001b[0m\u001b[2m│   │   │   │   \u001b[0mencoder_hidden_states=text_embeddings,                                     \u001b[31m│\u001b[0m\n",
       "\u001b[31m│\u001b[0m   \u001b[2m416 \u001b[0m\u001b[2m│   │   │   \u001b[0m).sample                                                                       \u001b[31m│\u001b[0m\n",
       "\u001b[31m│\u001b[0m   \u001b[2m417 \u001b[0m\u001b[2m│   │   │   \u001b[0mnoise_pred_text, noise_pred_uncond = noise_pred.chunk(\u001b[94m2\u001b[0m)                       \u001b[31m│\u001b[0m\n",
       "\u001b[31m╰──────────────────────────────────────────────────────────────────────────────────────────────────╯\u001b[0m\n",
       "\u001b[1;91mKeyboardInterrupt\u001b[0m\n"
      ]
     },
     "metadata": {},
     "output_type": "display_data"
    }
   ],
   "source": [
    "# PDS + SDEdit Generation\n",
    "\n",
    "batch_size = 1\n",
    "\n",
    "im = 0.8 * torch.randn_like(reference_latent.repeat(batch_size, 1, 1, 1))\n",
    "im.requires_grad_(True)\n",
    "im.retain_grad()\n",
    "\n",
    "im_optimizer = torch.optim.AdamW([im], lr=0.01, betas=(0.9, 0.99), eps=1e-15)\n",
    "\n",
    "for step in tqdm(range(4000)):\n",
    "    im_optimizer.zero_grad()\n",
    "\n",
    "    with torch.no_grad():\n",
    "        pds.config.guidance_scale = 100\n",
    "        pds_dict = pds.pds_gen_sdedit_src(\n",
    "            im=im,\n",
    "            prompt=\"a DSLR photo of a dog in a winter wonderland\",\n",
    "            skip_percentage = min(step / 1500, 0.8),\n",
    "            num_solve_steps = 12 + min(step // 200, 20),\n",
    "            return_dict=True\n",
    "        )\n",
    "    grad = pds_dict['grad']\n",
    "\n",
    "    # loss.backward()\n",
    "    im.backward(gradient=grad)\n",
    "    im_optimizer.step()\n",
    "\n",
    "    if step % 20 == 0:\n",
    "        decoded = decode_latent(im.detach()).cpu().numpy()\n",
    "        plt.imsave('./pds_gen_sdedit_debug.png', decoded)"
   ]
  },
  {
   "cell_type": "code",
   "execution_count": null,
   "metadata": {},
   "outputs": [],
   "source": []
  }
 ],
 "metadata": {
  "kernelspec": {
   "display_name": "no_data_distillation",
   "language": "python",
   "name": "python3"
  },
  "language_info": {
   "codemirror_mode": {
    "name": "ipython",
    "version": 3
   },
   "file_extension": ".py",
   "mimetype": "text/x-python",
   "name": "python",
   "nbconvert_exporter": "python",
   "pygments_lexer": "ipython3",
   "version": "3.9.12"
  }
 },
 "nbformat": 4,
 "nbformat_minor": 2
}
