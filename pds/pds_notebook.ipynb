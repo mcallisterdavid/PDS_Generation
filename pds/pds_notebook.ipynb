{
 "cells": [
  {
   "cell_type": "code",
   "execution_count": 1,
   "metadata": {},
   "outputs": [
    {
     "name": "stderr",
     "output_type": "stream",
     "text": [
      "A matching Triton is not available, some optimizations will not be enabled.\n",
      "Error caught was: No module named 'triton'\n"
     ]
    }
   ],
   "source": [
    "%load_ext autoreload\n",
    "%autoreload 2\n",
    "\n",
    "import os\n",
    "os.environ[\"CUDA_VISIBLE_DEVICES\"]=\"3\"\n",
    "\n",
    "import torch\n",
    "from torch import Tensor\n",
    "import torch.nn.functional as F\n",
    "device = torch.device('cuda')\n",
    "import matplotlib.pyplot as plt\n",
    "import math\n",
    "from tqdm import tqdm\n",
    "\n",
    "from diffusers import DDIMPipeline, DDIMScheduler, DDPMPipeline, DDPMScheduler, StableDiffusionPipeline\n",
    "from typing import *\n",
    "from jaxtyping import *"
   ]
  },
  {
   "cell_type": "code",
   "execution_count": 2,
   "metadata": {},
   "outputs": [
    {
     "data": {
      "application/vnd.jupyter.widget-view+json": {
       "model_id": "c841d7c219af489b92ee377ae2943408",
       "version_major": 2,
       "version_minor": 0
      },
      "text/plain": [
       "Loading pipeline components...:   0%|          | 0/6 [00:00<?, ?it/s]"
      ]
     },
     "metadata": {},
     "output_type": "display_data"
    }
   ],
   "source": [
    "from pds import PDS, PDSConfig\n",
    "\n",
    "pds = PDS(PDSConfig(\n",
    "    sd_pretrained_model_or_path='stabilityai/stable-diffusion-2-1-base'\n",
    "))"
   ]
  },
  {
   "cell_type": "code",
   "execution_count": 3,
   "metadata": {},
   "outputs": [],
   "source": [
    "reference = torch.tensor(plt.imread('./base.png'))\n",
    "reference = reference[..., :3].permute(2, 0, 1)[None, ...]\n",
    "reference = reference.to(pds.unet.device)"
   ]
  },
  {
   "cell_type": "code",
   "execution_count": 51,
   "metadata": {},
   "outputs": [],
   "source": [
    "def decode_latent(latent):\n",
    "    latent = latent.detach().to(device)\n",
    "    with torch.no_grad():\n",
    "        rgb = pds.decode_latent(latent)\n",
    "    rgb = rgb.float().cpu().permute(0, 2, 3, 1)\n",
    "    rgb = rgb.permute(1, 0, 2, 3)\n",
    "    rgb = rgb.flatten(start_dim=1, end_dim=2)\n",
    "    return rgb"
   ]
  },
  {
   "cell_type": "code",
   "execution_count": 5,
   "metadata": {},
   "outputs": [],
   "source": [
    "reference_latent = pds.encode_image(reference)\n",
    "decoded = decode_latent(reference_latent)"
   ]
  },
  {
   "cell_type": "code",
   "execution_count": null,
   "metadata": {},
   "outputs": [],
   "source": [
    "im = reference_latent.clone().to(device)\n",
    "im.requires_grad_(True)\n",
    "im.retain_grad()\n",
    "\n",
    "im_optimizer = torch.optim.AdamW([im], lr=0.01, betas=(0.9, 0.99), eps=1e-15)\n",
    "\n",
    "for step in tqdm(range(2000)):\n",
    "    im_optimizer.zero_grad()\n",
    "\n",
    "    with torch.no_grad():\n",
    "        pds_dict = pds(\n",
    "            tgt_x0=im,\n",
    "            src_x0=reference_latent.clone(),\n",
    "            tgt_prompt=\"a DSLR photo of a dog in a winter wonderland\",\n",
    "            src_prompt=\"a DSLR photo of a dog\",\n",
    "            return_dict=True\n",
    "        )\n",
    "    grad = pds_dict['grad']\n",
    "\n",
    "    # loss.backward()\n",
    "    im.backward(gradient=grad)\n",
    "    im_optimizer.step()\n",
    "\n",
    "    if step % 20 == 0:\n",
    "        decoded = decode_latent(im.detach()).cpu().numpy()\n",
    "        plt.imsave('./pds_debug.png', decoded)"
   ]
  },
  {
   "cell_type": "code",
   "execution_count": null,
   "metadata": {},
   "outputs": [],
   "source": [
    "# SDS Generation\n",
    "\n",
    "im = 0.8 * torch.randn_like(reference_latent)\n",
    "im.requires_grad_(True)\n",
    "im.retain_grad()\n",
    "\n",
    "im_optimizer = torch.optim.AdamW([im], lr=0.003, betas=(0.9, 0.99), eps=1e-15)\n",
    "\n",
    "for step in tqdm(range(4000)):\n",
    "    im_optimizer.zero_grad()\n",
    "\n",
    "    with torch.no_grad():\n",
    "        pds.guidance_scale = 7.5\n",
    "        pds_dict = pds.sds_loss(\n",
    "            im=im,\n",
    "            prompt=\"a DSLR photo of a dog in a winter wonderland\",\n",
    "            return_dict=True\n",
    "        )\n",
    "    grad = pds_dict['grad']\n",
    "\n",
    "    # loss.backward()\n",
    "    im.backward(gradient=grad)\n",
    "    im_optimizer.step()\n",
    "\n",
    "    if step % 20 == 0:\n",
    "        decoded = decode_latent(im.detach()).cpu().numpy()\n",
    "        plt.imsave('./sds_gen_debug.png', decoded)"
   ]
  },
  {
   "cell_type": "code",
   "execution_count": 55,
   "metadata": {},
   "outputs": [
    {
     "name": "stderr",
     "output_type": "stream",
     "text": [
      " 42%|████▏     | 1670/4000 [05:26<07:15,  5.35it/s]"
     ]
    }
   ],
   "source": [
    "# PDS Generation\n",
    "\n",
    "batch_size = 1\n",
    "\n",
    "im = 0.8 * torch.randn_like(reference_latent.repeat(batch_size, 1, 1, 1))\n",
    "im.requires_grad_(True)\n",
    "im.retain_grad()\n",
    "\n",
    "im_optimizer = torch.optim.AdamW([im], lr=0.003, betas=(0.9, 0.99), eps=1e-15)\n",
    "\n",
    "for step in tqdm(range(4000)):\n",
    "    im_optimizer.zero_grad()\n",
    "\n",
    "    with torch.no_grad():\n",
    "        pds.guidance_scale = 30\n",
    "        pds_dict = pds.pds_gen(\n",
    "            im=im,\n",
    "            prompt=\"a DSLR photo of a dog in a winter wonderland\",\n",
    "            return_dict=True\n",
    "        )\n",
    "    grad = pds_dict['grad']\n",
    "\n",
    "    # loss.backward()\n",
    "    im.backward(gradient=grad)\n",
    "    im_optimizer.step()\n",
    "\n",
    "    if step % 20 == 0:\n",
    "        decoded = decode_latent(im.detach()).cpu().numpy()\n",
    "        plt.imsave('./pds_gen_debug.png', decoded)"
   ]
  },
  {
   "cell_type": "code",
   "execution_count": null,
   "metadata": {},
   "outputs": [],
   "source": []
  }
 ],
 "metadata": {
  "kernelspec": {
   "display_name": "no_data_distillation",
   "language": "python",
   "name": "python3"
  },
  "language_info": {
   "codemirror_mode": {
    "name": "ipython",
    "version": 3
   },
   "file_extension": ".py",
   "mimetype": "text/x-python",
   "name": "python",
   "nbconvert_exporter": "python",
   "pygments_lexer": "ipython3",
   "version": "3.9.12"
  }
 },
 "nbformat": 4,
 "nbformat_minor": 2
}
